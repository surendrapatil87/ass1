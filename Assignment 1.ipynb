{
 "cells": [
  {
   "cell_type": "markdown",
   "id": "399cb0cf",
   "metadata": {},
   "source": [
    "# 1. In the below elements which of them are values or an expression? eg:- values can be integer or string and expressions will be mathematical operators."
   ]
  },
  {
   "cell_type": "markdown",
   "id": "57991272",
   "metadata": {},
   "source": [
    "Answer-\n",
    "* :- expression\n",
    "\n",
    "hello :- String\n",
    "\n",
    "-87.8 :- values\n",
    "\n",
    "- : - expression\n",
    "\n",
    "/ :- expression\n",
    "\n",
    "+ :- expression\n",
    "\n",
    "6 :- values"
   ]
  },
  {
   "cell_type": "markdown",
   "id": "635b49ca",
   "metadata": {},
   "source": [
    "# 2. What is the difference between string and variable?"
   ]
  },
  {
   "cell_type": "markdown",
   "id": "f09e48a2",
   "metadata": {},
   "source": [
    "Answer-\n",
    "String- String is a type of information you store in a Variable\n",
    "eq. String =\"Hello\" \n",
    "Variable -a store data in a program."
   ]
  },
  {
   "cell_type": "markdown",
   "id": "82cdb060",
   "metadata": {},
   "source": [
    "# 3. Describe three different data types."
   ]
  },
  {
   "cell_type": "markdown",
   "id": "6888041b",
   "metadata": {},
   "source": [
    "Answer-\n",
    "1 integer\n",
    "2 float\n",
    "3 strings(char)"
   ]
  },
  {
   "cell_type": "markdown",
   "id": "5dffe580",
   "metadata": {},
   "source": [
    "# 4.What is an expression made up of? What do all expressions do?"
   ]
  },
  {
   "cell_type": "markdown",
   "id": "efb9ed6e",
   "metadata": {},
   "source": [
    "Answer-\n",
    "An expression is combination of values and operators.all expression evaluate to a single value"
   ]
  },
  {
   "cell_type": "markdown",
   "id": "91b3688a",
   "metadata": {},
   "source": [
    "# 5.This assignment statements, like spam = 10. What is the difference between an expression and a statement?\n"
   ]
  },
  {
   "cell_type": "markdown",
   "id": "a665a42b",
   "metadata": {},
   "source": [
    "Answer-\n",
    "statemenats is for declear avariable and displaying the value expressionis assignment value to a variables.\n"
   ]
  },
  {
   "cell_type": "code",
   "execution_count": 1,
   "id": "5d0ec067",
   "metadata": {},
   "outputs": [
    {
     "data": {
      "text/plain": [
       "'display'"
      ]
     },
     "execution_count": 1,
     "metadata": {},
     "output_type": "execute_result"
    }
   ],
   "source": [
    "b = 'value' # experssion'\n",
    "'display' #statement"
   ]
  },
  {
   "cell_type": "markdown",
   "id": "d2d7d604",
   "metadata": {},
   "source": [
    "# 6. After running the following code, what does the variable bacon contain?\n",
    "bacon = 22\n",
    "bacon + 1"
   ]
  },
  {
   "cell_type": "code",
   "execution_count": 3,
   "id": "954d976b",
   "metadata": {},
   "outputs": [
    {
     "data": {
      "text/plain": [
       "23"
      ]
     },
     "execution_count": 3,
     "metadata": {},
     "output_type": "execute_result"
    }
   ],
   "source": [
    "bacon=22\n",
    "bacon+1"
   ]
  },
  {
   "cell_type": "markdown",
   "id": "fbf0ade3",
   "metadata": {},
   "source": [
    "# 7. What should the values of the following two terms be?\n",
    "'spam' + 'spamspam'\n",
    "'spam' * 3"
   ]
  },
  {
   "cell_type": "code",
   "execution_count": 4,
   "id": "568e9c1e",
   "metadata": {},
   "outputs": [
    {
     "data": {
      "text/plain": [
       "'spamspamspam'"
      ]
     },
     "execution_count": 4,
     "metadata": {},
     "output_type": "execute_result"
    }
   ],
   "source": [
    "'spam'+ 'spamspam'"
   ]
  },
  {
   "cell_type": "code",
   "execution_count": 5,
   "id": "cace6df2",
   "metadata": {},
   "outputs": [
    {
     "data": {
      "text/plain": [
       "'spamspamspam'"
      ]
     },
     "execution_count": 5,
     "metadata": {},
     "output_type": "execute_result"
    }
   ],
   "source": [
    "'spam'*3"
   ]
  },
  {
   "cell_type": "markdown",
   "id": "0b2b27b7",
   "metadata": {},
   "source": [
    "# 8. Why is eggs a valid variable name while 100 is invalid?"
   ]
  },
  {
   "cell_type": "raw",
   "id": "418f60a5",
   "metadata": {},
   "source": [
    "Answer-\n",
    "variable names cannot begin with number"
   ]
  },
  {
   "cell_type": "code",
   "execution_count": 7,
   "id": "e6488f57",
   "metadata": {},
   "outputs": [],
   "source": [
    "eggs=100"
   ]
  },
  {
   "cell_type": "code",
   "execution_count": 8,
   "id": "16b38623",
   "metadata": {},
   "outputs": [],
   "source": [
    "a100 = 'eggs'"
   ]
  },
  {
   "cell_type": "markdown",
   "id": "a510e6e0",
   "metadata": {},
   "source": [
    "# 9. What three functions can be used to get the integer, floating-point number, or string version of a value?"
   ]
  },
  {
   "cell_type": "markdown",
   "id": "5cace0fa",
   "metadata": {},
   "source": [
    "Ans- int(),float(),str() function will  evaluate to integer, float and string\n"
   ]
  },
  {
   "cell_type": "markdown",
   "id": "42bbf914",
   "metadata": {},
   "source": [
    "# 10. Why does this expression cause an error? How can you fix it?\n",
    "'I have eaten' + 99 +  'burritos'"
   ]
  },
  {
   "cell_type": "markdown",
   "id": "4154bc49",
   "metadata": {},
   "source": [
    "answer- the expression an error because 99 is integer"
   ]
  },
  {
   "cell_type": "code",
   "execution_count": 11,
   "id": "ea17a1b6",
   "metadata": {},
   "outputs": [
    {
     "data": {
      "text/plain": [
       "'I have eaten99burritos'"
      ]
     },
     "execution_count": 11,
     "metadata": {},
     "output_type": "execute_result"
    }
   ],
   "source": [
    "\n",
    "'I have eaten' + str(99) + 'burritos'"
   ]
  }
 ],
 "metadata": {
  "kernelspec": {
   "display_name": "Python 3 (ipykernel)",
   "language": "python",
   "name": "python3"
  },
  "language_info": {
   "codemirror_mode": {
    "name": "ipython",
    "version": 3
   },
   "file_extension": ".py",
   "mimetype": "text/x-python",
   "name": "python",
   "nbconvert_exporter": "python",
   "pygments_lexer": "ipython3",
   "version": "3.10.9"
  }
 },
 "nbformat": 4,
 "nbformat_minor": 5
}
